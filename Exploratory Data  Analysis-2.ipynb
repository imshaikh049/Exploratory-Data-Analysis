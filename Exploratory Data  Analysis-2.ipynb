{
 "cells": [
  {
   "cell_type": "code",
   "execution_count": null,
   "id": "a2c6af70-84e3-4555-9332-c41aa98ea7fc",
   "metadata": {},
   "outputs": [],
   "source": [
    "Q1. Load the flight price dataset and examine its dimensions. How many rows and columns does the dataset have?\n",
    "\n",
    "Answer: Load the dataset using pandas (e.g., pd.read_csv('flight_price_data.csv')) and use the .shape attribute to find the number of rows and columns."
   ]
  },
  {
   "cell_type": "code",
   "execution_count": null,
   "id": "ea3e33ef-66ac-4673-bf9e-d6526724077a",
   "metadata": {},
   "outputs": [],
   "source": [
    "Q2. What is the distribution of flight prices in the dataset? Create a histogram to visualize the distribution.\n",
    "\n",
    "Answer: Create a histogram using Matplotlib or Seaborn:\n",
    "\n",
    "import matplotlib.pyplot as plt\n",
    "import seaborn as sns\n",
    "\n",
    "plt.figure(figsize=(10, 6))\n",
    "sns.histplot(data['price'], bins=30, kde=True)\n",
    "plt.title('Distribution of Flight Prices')\n",
    "plt.xlabel('Price')\n",
    "plt.ylabel('Frequency')\n",
    "plt.show()\n"
   ]
  },
  {
   "cell_type": "code",
   "execution_count": null,
   "id": "cb7833be-27df-494f-9d77-b28d4f8b619d",
   "metadata": {},
   "outputs": [],
   "source": [
    "Q3. What is the range of prices in the dataset? What is the minimum and maximum price?\n",
    "\n",
    "Answer: Use pandas methods to find the range:\n",
    "    \n",
    "min_price = data['price'].min()\n",
    "max_price = data['price'].max()\n",
    "price_range = max_price - min_price"
   ]
  },
  {
   "cell_type": "code",
   "execution_count": null,
   "id": "59e5183f-efd1-4ce9-b039-28a21f4626a4",
   "metadata": {},
   "outputs": [],
   "source": [
    "Q4. How does the price of flights vary by airline? Create a boxplot to compare the prices of different airlines.\n",
    "\n",
    "Answer: Create a boxplot using Seaborn:\n",
    "    \n",
    "plt.figure(figsize=(12, 8))\n",
    "sns.boxplot(x='airline', y='price', data=data)\n",
    "plt.title('Flight Prices by Airline')\n",
    "plt.xlabel('Airline')\n",
    "plt.ylabel('Price')\n",
    "plt.xticks(rotation=90)\n",
    "plt.show()"
   ]
  },
  {
   "cell_type": "code",
   "execution_count": null,
   "id": "22c80972-5fa0-4966-9f68-67fbb86f4d59",
   "metadata": {},
   "outputs": [],
   "source": [
    "Q5. Are there any outliers in the dataset? Identify any potential outliers using a boxplot and describe how they may impact your analysis.\n",
    "\n",
    "Answer: Outliers can be identified using a boxplot as shown in Q4. Describe outliers as extreme values that deviate significantly from the other data points, which may skew statistical analysis."
   ]
  },
  {
   "cell_type": "code",
   "execution_count": null,
   "id": "8af9b35e-4e2b-44e5-9425-9f1ebbbe9732",
   "metadata": {},
   "outputs": [],
   "source": [
    "Q6. You are working for a travel agency, and your boss has asked you to analyze the Flight Price dataset to identify the peak travel season. What features would you analyze to identify the peak season, and how would you present your findings to your boss?\n",
    "\n",
    "Answer: Analyze features such as travel dates, booking dates, and seasons. Use time series plots or line charts to present trends in flight prices over different months or seasons."
   ]
  },
  {
   "cell_type": "code",
   "execution_count": null,
   "id": "4ba8eac0-f5a3-493f-b159-d984736f445f",
   "metadata": {},
   "outputs": [],
   "source": [
    "Q7. You are a data analyst for a flight booking website, and you have been asked to analyze the Flight Price dataset to identify any trends in flight prices. What features would you analyze to identify these trends, and what visualizations would you use to present your findings to your team?\n",
    "\n",
    "Answer: Analyze features like travel dates, booking dates, and airlines. Use line charts, time series plots, and heatmaps to visualize trends and seasonal variations in flight prices."
   ]
  },
  {
   "cell_type": "code",
   "execution_count": null,
   "id": "6e3aa86d-acc0-4920-a072-78d623aec27e",
   "metadata": {},
   "outputs": [],
   "source": [
    "Q8. You are a data scientist working for an airline company, and you have been asked to analyze the Flight Price dataset to identify the factors that affect flight prices. What features would you analyze to identify these factors, and how would you present your findings to the management team?\n",
    "\n",
    "Answer: Analyze features such as airline, travel dates, booking dates, flight duration, and seat class. Use regression analysis and feature importance plots to present findings."
   ]
  },
  {
   "cell_type": "code",
   "execution_count": null,
   "id": "1be0600a-1577-4112-8bd6-faafadd50918",
   "metadata": {},
   "outputs": [],
   "source": [
    "Q9. Load the Google Playstore dataset and examine its dimensions. How many rows and columns does the dataset have?\n",
    "\n",
    "Answer: Load the dataset using pandas (e.g., pd.read_csv('google_playstore.csv')) and use the .shape attribute to find the number of rows and columns."
   ]
  },
  {
   "cell_type": "code",
   "execution_count": null,
   "id": "eb5783c7-38c4-456a-be50-dcdb2f06f943",
   "metadata": {},
   "outputs": [],
   "source": [
    "Q10. How does the rating of apps vary by category? Create a boxplot to compare the ratings of different app categories.\n",
    "\n",
    "Answer: Create a boxplot using Seaborn:\n",
    "    \n",
    "plt.figure(figsize=(12, 8))\n",
    "sns.boxplot(x='category', y='rating', data=data)\n",
    "plt.title('App Ratings by Category')\n",
    "plt.xlabel('Category')\n",
    "plt.ylabel('Rating')\n",
    "plt.xticks(rotation=90)\n",
    "plt.show()"
   ]
  },
  {
   "cell_type": "code",
   "execution_count": null,
   "id": "73e6492e-597c-41d1-9a6d-32225aa2ce65",
   "metadata": {},
   "outputs": [],
   "source": [
    "Q11. Are there any missing values in the dataset? Identify any missing values and describe how they may impact your analysis.\n",
    "\n",
    "Answer: Check for missing values:\n",
    "    \n",
    "missing_values = data.isnull().sum()\n",
    "\n",
    "Describe how missing values can lead to incomplete analysis and may require imputation or removal."
   ]
  },
  {
   "cell_type": "code",
   "execution_count": null,
   "id": "e9e8f993-2cf4-47a6-85ce-237e7b95ea20",
   "metadata": {},
   "outputs": [],
   "source": [
    "Q12. What is the relationship between the size of an app and its rating? Create a scatter plot to visualize the relationship.\n",
    "\n",
    "Answer: Create a scatter plot using Matplotlib:\n",
    "    \n",
    "plt.figure(figsize=(10, 6))\n",
    "plt.scatter(data['size'], data['rating'])\n",
    "plt.title('Relationship between App Size and Rating')\n",
    "plt.xlabel('Size')\n",
    "plt.ylabel('Rating')\n",
    "plt.show()"
   ]
  },
  {
   "cell_type": "code",
   "execution_count": null,
   "id": "15e39578-aab2-42a0-a010-6a26cf87919e",
   "metadata": {},
   "outputs": [],
   "source": [
    "Q13. How does the type of app affect its price? Create a bar chart to compare average prices by app type.\n",
    "\n",
    "Answer: Create a bar chart using Seaborn:\n",
    "    \n",
    "plt.figure(figsize=(12, 8))\n",
    "sns.barplot(x='type', y='price', data=data, estimator='mean')\n",
    "plt.title('Average Price by App Type')\n",
    "plt.xlabel('App Type')\n",
    "plt.ylabel('Average Price')\n",
    "plt.show()"
   ]
  },
  {
   "cell_type": "code",
   "execution_count": null,
   "id": "3351248e-eeb2-488d-a2c4-8473ee9d250f",
   "metadata": {},
   "outputs": [],
   "source": [
    "Q14. What are the top 10 most popular apps in the dataset? Create a frequency table to identify the apps with the highest number of installs.\n",
    "\n",
    "Answer: Sort and display the top 10 apps by number of installs:\n",
    "    \n",
    "top_10_apps = data[['app_name', 'installs']].sort_values(by='installs', ascending=False).head(10)"
   ]
  },
  {
   "cell_type": "code",
   "execution_count": null,
   "id": "b05b8ae2-8442-4ade-a5cd-bb4518340857",
   "metadata": {},
   "outputs": [],
   "source": [
    "Q15. A company wants to launch a new app on the Google Playstore and has asked you to analyze the Google Playstore dataset to identify the most popular app categories. How would you approach this task, and what features would you analyze to make recommendations to the company?\n",
    "\n",
    "Answer: Analyze the frequency of app categories and ratings. Use bar charts to show the number of apps per category and ratings distribution."
   ]
  },
  {
   "cell_type": "code",
   "execution_count": null,
   "id": "72215d03-5c69-4f72-8dbb-3442b7f3884e",
   "metadata": {},
   "outputs": [],
   "source": []
  },
  {
   "cell_type": "code",
   "execution_count": null,
   "id": "370f8cb5-c607-4356-8019-b0b32189c446",
   "metadata": {},
   "outputs": [],
   "source": [
    "Q16. A mobile app development company wants to analyze the Google Playstore dataset to identify the most successful app developers. What features would you analyze to make recommendations to the company, and what data visualizations would you use to present your findings?\n",
    "\n",
    "Answer: Analyze features such as developer names, app ratings, and number of installs. Use bar charts and scatter plots to visualize the success metrics of different developers.\n",
    "Q17. A marketing research firm wants to analyze the Google Playstore dataset to identify the best time to launch a new app. What features would you analyze to make recommendations to the company, and what data visualizations would you use to present your findings?\n",
    "\n",
    "Answer: Analyze historical data on app releases and their performance. Use time series analysis and trend plots to identify the optimal times for launching new apps."
   ]
  },
  {
   "cell_type": "code",
   "execution_count": null,
   "id": "aa30b186-9852-4ac5-9cff-9407c2d37ebc",
   "metadata": {},
   "outputs": [],
   "source": []
  },
  {
   "cell_type": "code",
   "execution_count": null,
   "id": "50f91056-7c18-4309-9734-f56a731ee000",
   "metadata": {},
   "outputs": [],
   "source": []
  }
 ],
 "metadata": {
  "kernelspec": {
   "display_name": "Python 3 (ipykernel)",
   "language": "python",
   "name": "python3"
  },
  "language_info": {
   "codemirror_mode": {
    "name": "ipython",
    "version": 3
   },
   "file_extension": ".py",
   "mimetype": "text/x-python",
   "name": "python",
   "nbconvert_exporter": "python",
   "pygments_lexer": "ipython3",
   "version": "3.10.8"
  }
 },
 "nbformat": 4,
 "nbformat_minor": 5
}
